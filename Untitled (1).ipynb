{
 "cells": [
  {
   "cell_type": "code",
   "execution_count": 3,
   "id": "52c7221d",
   "metadata": {},
   "outputs": [
    {
     "name": "stdout",
     "output_type": "stream",
     "text": [
      "Collecting nltk\n",
      "  Downloading nltk-3.8.1-py3-none-any.whl (1.5 MB)\n",
      "                                              0.0/1.5 MB ? eta -:--:--\n",
      "                                              0.0/1.5 MB ? eta -:--:--\n",
      "                                              0.0/1.5 MB ? eta -:--:--\n",
      "                                              0.0/1.5 MB ? eta -:--:--\n",
      "                                              0.0/1.5 MB ? eta -:--:--\n",
      "     -                                        0.1/1.5 MB 233.8 kB/s eta 0:00:07\n",
      "     -                                        0.1/1.5 MB 233.8 kB/s eta 0:00:07\n",
      "     --                                       0.1/1.5 MB 291.5 kB/s eta 0:00:05\n",
      "     --                                       0.1/1.5 MB 291.5 kB/s eta 0:00:05\n",
      "     ---                                      0.1/1.5 MB 277.4 kB/s eta 0:00:06\n",
      "     ---                                      0.1/1.5 MB 277.4 kB/s eta 0:00:06\n",
      "     ----                                     0.2/1.5 MB 286.7 kB/s eta 0:00:05\n",
      "     ----                                     0.2/1.5 MB 299.5 kB/s eta 0:00:05\n",
      "     -----                                    0.2/1.5 MB 328.0 kB/s eta 0:00:05\n",
      "     -----                                    0.2/1.5 MB 328.0 kB/s eta 0:00:05\n",
      "     -----                                    0.2/1.5 MB 320.0 kB/s eta 0:00:05\n",
      "     ------                                   0.2/1.5 MB 306.9 kB/s eta 0:00:05\n",
      "     ------                                   0.2/1.5 MB 306.9 kB/s eta 0:00:05\n",
      "     -------                                  0.3/1.5 MB 327.9 kB/s eta 0:00:04\n",
      "     -------                                  0.3/1.5 MB 327.9 kB/s eta 0:00:04\n",
      "     -------                                  0.3/1.5 MB 327.9 kB/s eta 0:00:04\n",
      "     -------                                  0.3/1.5 MB 327.9 kB/s eta 0:00:04\n",
      "     -------                                  0.3/1.5 MB 327.9 kB/s eta 0:00:04\n",
      "     --------                                 0.3/1.5 MB 279.6 kB/s eta 0:00:05\n",
      "     --------                                 0.3/1.5 MB 280.8 kB/s eta 0:00:05\n",
      "     --------                                 0.3/1.5 MB 280.8 kB/s eta 0:00:05\n",
      "     --------                                 0.3/1.5 MB 280.8 kB/s eta 0:00:05\n",
      "     --------                                 0.3/1.5 MB 280.8 kB/s eta 0:00:05\n",
      "     --------                                 0.3/1.5 MB 280.8 kB/s eta 0:00:05\n",
      "     --------                                 0.3/1.5 MB 280.8 kB/s eta 0:00:05\n",
      "     ---------                                0.4/1.5 MB 250.3 kB/s eta 0:00:05\n",
      "     ---------                                0.4/1.5 MB 250.3 kB/s eta 0:00:05\n",
      "     ----------                               0.4/1.5 MB 255.3 kB/s eta 0:00:05\n",
      "     ----------                               0.4/1.5 MB 254.2 kB/s eta 0:00:05\n",
      "     -----------                              0.4/1.5 MB 259.6 kB/s eta 0:00:05\n",
      "     -----------                              0.4/1.5 MB 259.6 kB/s eta 0:00:05\n",
      "     -----------                              0.4/1.5 MB 259.7 kB/s eta 0:00:05\n",
      "     -----------                              0.4/1.5 MB 259.7 kB/s eta 0:00:05\n",
      "     -----------                              0.4/1.5 MB 259.7 kB/s eta 0:00:05\n",
      "     ------------                             0.5/1.5 MB 254.3 kB/s eta 0:00:05\n",
      "     ------------                             0.5/1.5 MB 254.3 kB/s eta 0:00:05\n",
      "     ------------                             0.5/1.5 MB 254.3 kB/s eta 0:00:05\n",
      "     ------------                             0.5/1.5 MB 254.3 kB/s eta 0:00:05\n",
      "     ------------                             0.5/1.5 MB 254.3 kB/s eta 0:00:05\n",
      "     ------------                             0.5/1.5 MB 254.3 kB/s eta 0:00:05\n",
      "     ------------                             0.5/1.5 MB 254.3 kB/s eta 0:00:05\n",
      "     ------------                             0.5/1.5 MB 254.3 kB/s eta 0:00:05\n",
      "     ------------                             0.5/1.5 MB 254.3 kB/s eta 0:00:05\n",
      "     --------------                           0.5/1.5 MB 237.1 kB/s eta 0:00:05\n",
      "     --------------                           0.5/1.5 MB 237.1 kB/s eta 0:00:05\n",
      "     --------------                           0.5/1.5 MB 237.1 kB/s eta 0:00:05\n",
      "     --------------                           0.5/1.5 MB 237.1 kB/s eta 0:00:05\n",
      "     --------------                           0.6/1.5 MB 227.0 kB/s eta 0:00:05\n",
      "     --------------                           0.6/1.5 MB 225.4 kB/s eta 0:00:05\n",
      "     ---------------                          0.6/1.5 MB 227.9 kB/s eta 0:00:05\n",
      "     ---------------                          0.6/1.5 MB 227.9 kB/s eta 0:00:05\n",
      "     ---------------                          0.6/1.5 MB 230.4 kB/s eta 0:00:04\n",
      "     ---------------                          0.6/1.5 MB 230.4 kB/s eta 0:00:04\n",
      "     -----------------                        0.6/1.5 MB 236.3 kB/s eta 0:00:04\n",
      "     -----------------                        0.7/1.5 MB 234.6 kB/s eta 0:00:04\n",
      "     -----------------                        0.7/1.5 MB 234.6 kB/s eta 0:00:04\n",
      "     -----------------                        0.7/1.5 MB 233.1 kB/s eta 0:00:04\n",
      "     -----------------                        0.7/1.5 MB 233.1 kB/s eta 0:00:04\n",
      "     -----------------                        0.7/1.5 MB 233.1 kB/s eta 0:00:04\n",
      "     -----------------                        0.7/1.5 MB 233.1 kB/s eta 0:00:04\n",
      "     -----------------                        0.7/1.5 MB 233.1 kB/s eta 0:00:04\n",
      "     ------------------                       0.7/1.5 MB 219.6 kB/s eta 0:00:04\n",
      "     ------------------                       0.7/1.5 MB 224.0 kB/s eta 0:00:04\n",
      "     -------------------                      0.7/1.5 MB 234.7 kB/s eta 0:00:04\n",
      "     --------------------                     0.8/1.5 MB 236.6 kB/s eta 0:00:04\n",
      "     --------------------                     0.8/1.5 MB 236.6 kB/s eta 0:00:04\n",
      "     ---------------------                    0.8/1.5 MB 240.3 kB/s eta 0:00:03\n",
      "     ---------------------                    0.8/1.5 MB 243.1 kB/s eta 0:00:03\n",
      "     ---------------------                    0.8/1.5 MB 243.1 kB/s eta 0:00:03\n",
      "     ---------------------                    0.8/1.5 MB 243.1 kB/s eta 0:00:03\n",
      "     ---------------------                    0.8/1.5 MB 234.1 kB/s eta 0:00:03\n",
      "     ----------------------                   0.8/1.5 MB 237.8 kB/s eta 0:00:03\n",
      "     -----------------------                  0.9/1.5 MB 240.4 kB/s eta 0:00:03\n",
      "     -----------------------                  0.9/1.5 MB 239.1 kB/s eta 0:00:03\n",
      "     -----------------------                  0.9/1.5 MB 241.6 kB/s eta 0:00:03\n",
      "     ------------------------                 0.9/1.5 MB 243.3 kB/s eta 0:00:03\n",
      "     ------------------------                 0.9/1.5 MB 247.4 kB/s eta 0:00:03\n",
      "     ------------------------                 0.9/1.5 MB 247.4 kB/s eta 0:00:03\n",
      "     -------------------------                1.0/1.5 MB 246.8 kB/s eta 0:00:03\n",
      "     -------------------------                1.0/1.5 MB 246.4 kB/s eta 0:00:03\n",
      "     --------------------------               1.0/1.5 MB 252.8 kB/s eta 0:00:02\n",
      "     ---------------------------              1.0/1.5 MB 253.4 kB/s eta 0:00:02\n",
      "     ---------------------------              1.1/1.5 MB 257.1 kB/s eta 0:00:02\n",
      "     ----------------------------             1.1/1.5 MB 260.1 kB/s eta 0:00:02\n",
      "     -----------------------------            1.1/1.5 MB 261.2 kB/s eta 0:00:02\n",
      "     -----------------------------            1.1/1.5 MB 265.6 kB/s eta 0:00:02\n",
      "     -----------------------------            1.1/1.5 MB 265.6 kB/s eta 0:00:02\n",
      "     -----------------------------            1.1/1.5 MB 265.6 kB/s eta 0:00:02\n",
      "     -------------------------------          1.2/1.5 MB 272.1 kB/s eta 0:00:02\n",
      "     -------------------------------          1.2/1.5 MB 272.1 kB/s eta 0:00:02\n",
      "     -------------------------------          1.2/1.5 MB 270.0 kB/s eta 0:00:02\n",
      "     --------------------------------         1.2/1.5 MB 269.5 kB/s eta 0:00:02\n",
      "     --------------------------------         1.2/1.5 MB 272.1 kB/s eta 0:00:01\n",
      "     ---------------------------------        1.3/1.5 MB 273.8 kB/s eta 0:00:01\n",
      "     ---------------------------------        1.3/1.5 MB 273.8 kB/s eta 0:00:01\n",
      "     ---------------------------------        1.3/1.5 MB 273.8 kB/s eta 0:00:01\n",
      "     ----------------------------------       1.3/1.5 MB 277.8 kB/s eta 0:00:01\n",
      "     -----------------------------------      1.3/1.5 MB 280.3 kB/s eta 0:00:01\n",
      "     -----------------------------------      1.4/1.5 MB 280.6 kB/s eta 0:00:01\n",
      "     ------------------------------------     1.4/1.5 MB 282.1 kB/s eta 0:00:01\n",
      "     ------------------------------------     1.4/1.5 MB 280.5 kB/s eta 0:00:01\n",
      "     -------------------------------------    1.4/1.5 MB 285.3 kB/s eta 0:00:01\n",
      "     -------------------------------------    1.4/1.5 MB 285.3 kB/s eta 0:00:01\n",
      "     --------------------------------------   1.5/1.5 MB 286.1 kB/s eta 0:00:01\n",
      "     --------------------------------------   1.5/1.5 MB 286.3 kB/s eta 0:00:01\n",
      "     --------------------------------------   1.5/1.5 MB 286.3 kB/s eta 0:00:01\n",
      "     ---------------------------------------  1.5/1.5 MB 288.2 kB/s eta 0:00:01\n",
      "     ---------------------------------------  1.5/1.5 MB 288.2 kB/s eta 0:00:01\n",
      "     ---------------------------------------- 1.5/1.5 MB 285.8 kB/s eta 0:00:00\n",
      "Requirement already satisfied: click in c:\\users\\ankit singh\\appdata\\local\\programs\\python\\python310\\lib\\site-packages (from nltk) (8.1.3)\n",
      "Requirement already satisfied: joblib in c:\\users\\ankit singh\\appdata\\local\\programs\\python\\python310\\lib\\site-packages (from nltk) (1.2.0)\n",
      "Requirement already satisfied: regex>=2021.8.3 in c:\\users\\ankit singh\\appdata\\local\\programs\\python\\python310\\lib\\site-packages (from nltk) (2023.6.3)\n",
      "Requirement already satisfied: tqdm in c:\\users\\ankit singh\\appdata\\local\\programs\\python\\python310\\lib\\site-packages (from nltk) (4.65.0)\n",
      "Requirement already satisfied: colorama in c:\\users\\ankit singh\\appdata\\local\\programs\\python\\python310\\lib\\site-packages (from click->nltk) (0.4.6)\n",
      "Installing collected packages: nltk\n",
      "Successfully installed nltk-3.8.1\n"
     ]
    },
    {
     "name": "stderr",
     "output_type": "stream",
     "text": [
      "\n",
      "[notice] A new release of pip is available: 23.1.2 -> 23.2.1\n",
      "[notice] To update, run: python.exe -m pip install --upgrade pip\n"
     ]
    }
   ],
   "source": [
    "!pip install nltk\n",
    "import pandas as pd\n",
    "import numpy as np\n",
    "import matplotlib.pyplot as plt\n",
    "import nltk"
   ]
  },
  {
   "cell_type": "code",
   "execution_count": 4,
   "id": "d4a3746c",
   "metadata": {},
   "outputs": [],
   "source": [
    "from nltk.sentiment.vader import SentimentIntensityAnalyzer"
   ]
  },
  {
   "cell_type": "code",
   "execution_count": 9,
   "id": "661803c9",
   "metadata": {},
   "outputs": [
    {
     "name": "stderr",
     "output_type": "stream",
     "text": [
      "[nltk_data] Downloading package vader_lexicon to C:\\Users\\Ankit\n",
      "[nltk_data]     Singh\\AppData\\Roaming\\nltk_data...\n"
     ]
    },
    {
     "data": {
      "text/plain": [
       "True"
      ]
     },
     "execution_count": 9,
     "metadata": {},
     "output_type": "execute_result"
    }
   ],
   "source": [
    "nltk.download('vader_lexicon')"
   ]
  },
  {
   "cell_type": "code",
   "execution_count": 10,
   "id": "41ceba2e",
   "metadata": {},
   "outputs": [],
   "source": [
    "sent=SentimentIntensityAnalyzer()"
   ]
  },
  {
   "cell_type": "code",
   "execution_count": 6,
   "id": "d572a371",
   "metadata": {},
   "outputs": [],
   "source": [
    "reviews=pd.read_csv(r\"guardian_headlines.csv\", sep='\\t')"
   ]
  },
  {
   "cell_type": "code",
   "execution_count": 7,
   "id": "7016f39d",
   "metadata": {
    "scrolled": true
   },
   "outputs": [
    {
     "data": {
      "text/html": [
       "<div>\n",
       "<style scoped>\n",
       "    .dataframe tbody tr th:only-of-type {\n",
       "        vertical-align: middle;\n",
       "    }\n",
       "\n",
       "    .dataframe tbody tr th {\n",
       "        vertical-align: top;\n",
       "    }\n",
       "\n",
       "    .dataframe thead th {\n",
       "        text-align: right;\n",
       "    }\n",
       "</style>\n",
       "<table border=\"1\" class=\"dataframe\">\n",
       "  <thead>\n",
       "    <tr style=\"text-align: right;\">\n",
       "      <th></th>\n",
       "      <th>Time,Headlines</th>\n",
       "    </tr>\n",
       "  </thead>\n",
       "  <tbody>\n",
       "    <tr>\n",
       "      <th>0</th>\n",
       "      <td>18-Jul-20,Johnson is asking Santa for a Christ...</td>\n",
       "    </tr>\n",
       "    <tr>\n",
       "      <th>1</th>\n",
       "      <td>18-Jul-20,‘I now fear the worst’: four grim ta...</td>\n",
       "    </tr>\n",
       "    <tr>\n",
       "      <th>2</th>\n",
       "      <td>18-Jul-20,Five key areas Sunak must tackle to ...</td>\n",
       "    </tr>\n",
       "    <tr>\n",
       "      <th>3</th>\n",
       "      <td>18-Jul-20,Covid-19 leaves firms ‘fatally ill-p...</td>\n",
       "    </tr>\n",
       "    <tr>\n",
       "      <th>4</th>\n",
       "      <td>18-Jul-20,\"The Week in Patriarchy</td>\n",
       "    </tr>\n",
       "  </tbody>\n",
       "</table>\n",
       "</div>"
      ],
      "text/plain": [
       "                                      Time,Headlines\n",
       "0  18-Jul-20,Johnson is asking Santa for a Christ...\n",
       "1  18-Jul-20,‘I now fear the worst’: four grim ta...\n",
       "2  18-Jul-20,Five key areas Sunak must tackle to ...\n",
       "3  18-Jul-20,Covid-19 leaves firms ‘fatally ill-p...\n",
       "4                18-Jul-20,\"The Week in Patriarchy  "
      ]
     },
     "execution_count": 7,
     "metadata": {},
     "output_type": "execute_result"
    }
   ],
   "source": [
    "reviews.head()"
   ]
  },
  {
   "cell_type": "code",
   "execution_count": 13,
   "id": "c1df9c38",
   "metadata": {},
   "outputs": [
    {
     "data": {
      "text/plain": [
       "(19046, 1)"
      ]
     },
     "execution_count": 13,
     "metadata": {},
     "output_type": "execute_result"
    }
   ],
   "source": [
    "reviews.shape"
   ]
  },
  {
   "cell_type": "code",
   "execution_count": 14,
   "id": "00266118",
   "metadata": {},
   "outputs": [],
   "source": [
    "score_com=[]\n",
    "score_pos=[]\n",
    "score_neg=[]\n",
    "for i in range(0,reviews.shape[0]):\n",
    "    score=sent.polarity_scores(reviews.iloc[i][0])\n",
    "    score1=score['compound']\n",
    "    score_com.append(score1)\n",
    "    score2=score['pos']\n",
    "    score_pos.append(score2)\n",
    "    score2=score['neg']\n",
    "    score_neg.append(score2)"
   ]
  },
  {
   "cell_type": "code",
   "execution_count": 15,
   "id": "d5867195",
   "metadata": {},
   "outputs": [],
   "source": [
    "reviews[\"Comp_score\"]=score_com\n",
    "reviews[\"Pos_score\"]=score_pos\n",
    "reviews[\"Neg_score\"]=score_neg"
   ]
  },
  {
   "cell_type": "code",
   "execution_count": 16,
   "id": "12f77115",
   "metadata": {},
   "outputs": [
    {
     "data": {
      "text/html": [
       "<div>\n",
       "<style scoped>\n",
       "    .dataframe tbody tr th:only-of-type {\n",
       "        vertical-align: middle;\n",
       "    }\n",
       "\n",
       "    .dataframe tbody tr th {\n",
       "        vertical-align: top;\n",
       "    }\n",
       "\n",
       "    .dataframe thead th {\n",
       "        text-align: right;\n",
       "    }\n",
       "</style>\n",
       "<table border=\"1\" class=\"dataframe\">\n",
       "  <thead>\n",
       "    <tr style=\"text-align: right;\">\n",
       "      <th></th>\n",
       "      <th>Time,Headlines</th>\n",
       "      <th>Comp_score</th>\n",
       "      <th>Pos_score</th>\n",
       "      <th>Neg_score</th>\n",
       "    </tr>\n",
       "  </thead>\n",
       "  <tbody>\n",
       "    <tr>\n",
       "      <th>0</th>\n",
       "      <td>18-Jul-20,Johnson is asking Santa for a Christ...</td>\n",
       "      <td>0.0000</td>\n",
       "      <td>0.0</td>\n",
       "      <td>0.000</td>\n",
       "    </tr>\n",
       "    <tr>\n",
       "      <th>1</th>\n",
       "      <td>18-Jul-20,‘I now fear the worst’: four grim ta...</td>\n",
       "      <td>-0.7845</td>\n",
       "      <td>0.0</td>\n",
       "      <td>0.365</td>\n",
       "    </tr>\n",
       "    <tr>\n",
       "      <th>2</th>\n",
       "      <td>18-Jul-20,Five key areas Sunak must tackle to ...</td>\n",
       "      <td>0.0000</td>\n",
       "      <td>0.0</td>\n",
       "      <td>0.000</td>\n",
       "    </tr>\n",
       "    <tr>\n",
       "      <th>3</th>\n",
       "      <td>18-Jul-20,Covid-19 leaves firms ‘fatally ill-p...</td>\n",
       "      <td>0.0000</td>\n",
       "      <td>0.0</td>\n",
       "      <td>0.000</td>\n",
       "    </tr>\n",
       "    <tr>\n",
       "      <th>4</th>\n",
       "      <td>18-Jul-20,\"The Week in Patriarchy</td>\n",
       "      <td>0.0000</td>\n",
       "      <td>0.0</td>\n",
       "      <td>0.000</td>\n",
       "    </tr>\n",
       "  </tbody>\n",
       "</table>\n",
       "</div>"
      ],
      "text/plain": [
       "                                      Time,Headlines  Comp_score  Pos_score  \\\n",
       "0  18-Jul-20,Johnson is asking Santa for a Christ...      0.0000        0.0   \n",
       "1  18-Jul-20,‘I now fear the worst’: four grim ta...     -0.7845        0.0   \n",
       "2  18-Jul-20,Five key areas Sunak must tackle to ...      0.0000        0.0   \n",
       "3  18-Jul-20,Covid-19 leaves firms ‘fatally ill-p...      0.0000        0.0   \n",
       "4                18-Jul-20,\"The Week in Patriarchy        0.0000        0.0   \n",
       "\n",
       "   Neg_score  \n",
       "0      0.000  \n",
       "1      0.365  \n",
       "2      0.000  \n",
       "3      0.000  \n",
       "4      0.000  "
      ]
     },
     "execution_count": 16,
     "metadata": {},
     "output_type": "execute_result"
    }
   ],
   "source": [
    "reviews.head()"
   ]
  },
  {
   "cell_type": "code",
   "execution_count": 17,
   "id": "1c9e0960",
   "metadata": {},
   "outputs": [
    {
     "ename": "PermissionError",
     "evalue": "[Errno 13] Permission denied: 'guardian_headlines.csv'",
     "output_type": "error",
     "traceback": [
      "\u001b[1;31m---------------------------------------------------------------------------\u001b[0m",
      "\u001b[1;31mPermissionError\u001b[0m                           Traceback (most recent call last)",
      "Cell \u001b[1;32mIn[17], line 1\u001b[0m\n\u001b[1;32m----> 1\u001b[0m \u001b[43mreviews\u001b[49m\u001b[38;5;241;43m.\u001b[39;49m\u001b[43mto_csv\u001b[49m\u001b[43m(\u001b[49m\u001b[38;5;124;43m'\u001b[39;49m\u001b[38;5;124;43mguardian_headlines.csv\u001b[39;49m\u001b[38;5;124;43m'\u001b[39;49m\u001b[43m,\u001b[49m\u001b[43mindex\u001b[49m\u001b[38;5;241;43m=\u001b[39;49m\u001b[38;5;28;43;01mFalse\u001b[39;49;00m\u001b[43m)\u001b[49m\n",
      "File \u001b[1;32m~\\AppData\\Local\\Programs\\Python\\Python310\\lib\\site-packages\\pandas\\core\\generic.py:3772\u001b[0m, in \u001b[0;36mNDFrame.to_csv\u001b[1;34m(self, path_or_buf, sep, na_rep, float_format, columns, header, index, index_label, mode, encoding, compression, quoting, quotechar, lineterminator, chunksize, date_format, doublequote, escapechar, decimal, errors, storage_options)\u001b[0m\n\u001b[0;32m   3761\u001b[0m df \u001b[38;5;241m=\u001b[39m \u001b[38;5;28mself\u001b[39m \u001b[38;5;28;01mif\u001b[39;00m \u001b[38;5;28misinstance\u001b[39m(\u001b[38;5;28mself\u001b[39m, ABCDataFrame) \u001b[38;5;28;01melse\u001b[39;00m \u001b[38;5;28mself\u001b[39m\u001b[38;5;241m.\u001b[39mto_frame()\n\u001b[0;32m   3763\u001b[0m formatter \u001b[38;5;241m=\u001b[39m DataFrameFormatter(\n\u001b[0;32m   3764\u001b[0m     frame\u001b[38;5;241m=\u001b[39mdf,\n\u001b[0;32m   3765\u001b[0m     header\u001b[38;5;241m=\u001b[39mheader,\n\u001b[1;32m   (...)\u001b[0m\n\u001b[0;32m   3769\u001b[0m     decimal\u001b[38;5;241m=\u001b[39mdecimal,\n\u001b[0;32m   3770\u001b[0m )\n\u001b[1;32m-> 3772\u001b[0m \u001b[38;5;28;01mreturn\u001b[39;00m \u001b[43mDataFrameRenderer\u001b[49m\u001b[43m(\u001b[49m\u001b[43mformatter\u001b[49m\u001b[43m)\u001b[49m\u001b[38;5;241;43m.\u001b[39;49m\u001b[43mto_csv\u001b[49m\u001b[43m(\u001b[49m\n\u001b[0;32m   3773\u001b[0m \u001b[43m    \u001b[49m\u001b[43mpath_or_buf\u001b[49m\u001b[43m,\u001b[49m\n\u001b[0;32m   3774\u001b[0m \u001b[43m    \u001b[49m\u001b[43mlineterminator\u001b[49m\u001b[38;5;241;43m=\u001b[39;49m\u001b[43mlineterminator\u001b[49m\u001b[43m,\u001b[49m\n\u001b[0;32m   3775\u001b[0m \u001b[43m    \u001b[49m\u001b[43msep\u001b[49m\u001b[38;5;241;43m=\u001b[39;49m\u001b[43msep\u001b[49m\u001b[43m,\u001b[49m\n\u001b[0;32m   3776\u001b[0m \u001b[43m    \u001b[49m\u001b[43mencoding\u001b[49m\u001b[38;5;241;43m=\u001b[39;49m\u001b[43mencoding\u001b[49m\u001b[43m,\u001b[49m\n\u001b[0;32m   3777\u001b[0m \u001b[43m    \u001b[49m\u001b[43merrors\u001b[49m\u001b[38;5;241;43m=\u001b[39;49m\u001b[43merrors\u001b[49m\u001b[43m,\u001b[49m\n\u001b[0;32m   3778\u001b[0m \u001b[43m    \u001b[49m\u001b[43mcompression\u001b[49m\u001b[38;5;241;43m=\u001b[39;49m\u001b[43mcompression\u001b[49m\u001b[43m,\u001b[49m\n\u001b[0;32m   3779\u001b[0m \u001b[43m    \u001b[49m\u001b[43mquoting\u001b[49m\u001b[38;5;241;43m=\u001b[39;49m\u001b[43mquoting\u001b[49m\u001b[43m,\u001b[49m\n\u001b[0;32m   3780\u001b[0m \u001b[43m    \u001b[49m\u001b[43mcolumns\u001b[49m\u001b[38;5;241;43m=\u001b[39;49m\u001b[43mcolumns\u001b[49m\u001b[43m,\u001b[49m\n\u001b[0;32m   3781\u001b[0m \u001b[43m    \u001b[49m\u001b[43mindex_label\u001b[49m\u001b[38;5;241;43m=\u001b[39;49m\u001b[43mindex_label\u001b[49m\u001b[43m,\u001b[49m\n\u001b[0;32m   3782\u001b[0m \u001b[43m    \u001b[49m\u001b[43mmode\u001b[49m\u001b[38;5;241;43m=\u001b[39;49m\u001b[43mmode\u001b[49m\u001b[43m,\u001b[49m\n\u001b[0;32m   3783\u001b[0m \u001b[43m    \u001b[49m\u001b[43mchunksize\u001b[49m\u001b[38;5;241;43m=\u001b[39;49m\u001b[43mchunksize\u001b[49m\u001b[43m,\u001b[49m\n\u001b[0;32m   3784\u001b[0m \u001b[43m    \u001b[49m\u001b[43mquotechar\u001b[49m\u001b[38;5;241;43m=\u001b[39;49m\u001b[43mquotechar\u001b[49m\u001b[43m,\u001b[49m\n\u001b[0;32m   3785\u001b[0m \u001b[43m    \u001b[49m\u001b[43mdate_format\u001b[49m\u001b[38;5;241;43m=\u001b[39;49m\u001b[43mdate_format\u001b[49m\u001b[43m,\u001b[49m\n\u001b[0;32m   3786\u001b[0m \u001b[43m    \u001b[49m\u001b[43mdoublequote\u001b[49m\u001b[38;5;241;43m=\u001b[39;49m\u001b[43mdoublequote\u001b[49m\u001b[43m,\u001b[49m\n\u001b[0;32m   3787\u001b[0m \u001b[43m    \u001b[49m\u001b[43mescapechar\u001b[49m\u001b[38;5;241;43m=\u001b[39;49m\u001b[43mescapechar\u001b[49m\u001b[43m,\u001b[49m\n\u001b[0;32m   3788\u001b[0m \u001b[43m    \u001b[49m\u001b[43mstorage_options\u001b[49m\u001b[38;5;241;43m=\u001b[39;49m\u001b[43mstorage_options\u001b[49m\u001b[43m,\u001b[49m\n\u001b[0;32m   3789\u001b[0m \u001b[43m\u001b[49m\u001b[43m)\u001b[49m\n",
      "File \u001b[1;32m~\\AppData\\Local\\Programs\\Python\\Python310\\lib\\site-packages\\pandas\\io\\formats\\format.py:1186\u001b[0m, in \u001b[0;36mDataFrameRenderer.to_csv\u001b[1;34m(self, path_or_buf, encoding, sep, columns, index_label, mode, compression, quoting, quotechar, lineterminator, chunksize, date_format, doublequote, escapechar, errors, storage_options)\u001b[0m\n\u001b[0;32m   1165\u001b[0m     created_buffer \u001b[38;5;241m=\u001b[39m \u001b[38;5;28;01mFalse\u001b[39;00m\n\u001b[0;32m   1167\u001b[0m csv_formatter \u001b[38;5;241m=\u001b[39m CSVFormatter(\n\u001b[0;32m   1168\u001b[0m     path_or_buf\u001b[38;5;241m=\u001b[39mpath_or_buf,\n\u001b[0;32m   1169\u001b[0m     lineterminator\u001b[38;5;241m=\u001b[39mlineterminator,\n\u001b[1;32m   (...)\u001b[0m\n\u001b[0;32m   1184\u001b[0m     formatter\u001b[38;5;241m=\u001b[39m\u001b[38;5;28mself\u001b[39m\u001b[38;5;241m.\u001b[39mfmt,\n\u001b[0;32m   1185\u001b[0m )\n\u001b[1;32m-> 1186\u001b[0m \u001b[43mcsv_formatter\u001b[49m\u001b[38;5;241;43m.\u001b[39;49m\u001b[43msave\u001b[49m\u001b[43m(\u001b[49m\u001b[43m)\u001b[49m\n\u001b[0;32m   1188\u001b[0m \u001b[38;5;28;01mif\u001b[39;00m created_buffer:\n\u001b[0;32m   1189\u001b[0m     \u001b[38;5;28;01massert\u001b[39;00m \u001b[38;5;28misinstance\u001b[39m(path_or_buf, StringIO)\n",
      "File \u001b[1;32m~\\AppData\\Local\\Programs\\Python\\Python310\\lib\\site-packages\\pandas\\io\\formats\\csvs.py:240\u001b[0m, in \u001b[0;36mCSVFormatter.save\u001b[1;34m(self)\u001b[0m\n\u001b[0;32m    236\u001b[0m \u001b[38;5;250m\u001b[39m\u001b[38;5;124;03m\"\"\"\u001b[39;00m\n\u001b[0;32m    237\u001b[0m \u001b[38;5;124;03mCreate the writer & save.\u001b[39;00m\n\u001b[0;32m    238\u001b[0m \u001b[38;5;124;03m\"\"\"\u001b[39;00m\n\u001b[0;32m    239\u001b[0m \u001b[38;5;66;03m# apply compression and byte/text conversion\u001b[39;00m\n\u001b[1;32m--> 240\u001b[0m \u001b[38;5;28;01mwith\u001b[39;00m \u001b[43mget_handle\u001b[49m\u001b[43m(\u001b[49m\n\u001b[0;32m    241\u001b[0m \u001b[43m    \u001b[49m\u001b[38;5;28;43mself\u001b[39;49m\u001b[38;5;241;43m.\u001b[39;49m\u001b[43mfilepath_or_buffer\u001b[49m\u001b[43m,\u001b[49m\n\u001b[0;32m    242\u001b[0m \u001b[43m    \u001b[49m\u001b[38;5;28;43mself\u001b[39;49m\u001b[38;5;241;43m.\u001b[39;49m\u001b[43mmode\u001b[49m\u001b[43m,\u001b[49m\n\u001b[0;32m    243\u001b[0m \u001b[43m    \u001b[49m\u001b[43mencoding\u001b[49m\u001b[38;5;241;43m=\u001b[39;49m\u001b[38;5;28;43mself\u001b[39;49m\u001b[38;5;241;43m.\u001b[39;49m\u001b[43mencoding\u001b[49m\u001b[43m,\u001b[49m\n\u001b[0;32m    244\u001b[0m \u001b[43m    \u001b[49m\u001b[43merrors\u001b[49m\u001b[38;5;241;43m=\u001b[39;49m\u001b[38;5;28;43mself\u001b[39;49m\u001b[38;5;241;43m.\u001b[39;49m\u001b[43merrors\u001b[49m\u001b[43m,\u001b[49m\n\u001b[0;32m    245\u001b[0m \u001b[43m    \u001b[49m\u001b[43mcompression\u001b[49m\u001b[38;5;241;43m=\u001b[39;49m\u001b[38;5;28;43mself\u001b[39;49m\u001b[38;5;241;43m.\u001b[39;49m\u001b[43mcompression\u001b[49m\u001b[43m,\u001b[49m\n\u001b[0;32m    246\u001b[0m \u001b[43m    \u001b[49m\u001b[43mstorage_options\u001b[49m\u001b[38;5;241;43m=\u001b[39;49m\u001b[38;5;28;43mself\u001b[39;49m\u001b[38;5;241;43m.\u001b[39;49m\u001b[43mstorage_options\u001b[49m\u001b[43m,\u001b[49m\n\u001b[0;32m    247\u001b[0m \u001b[43m\u001b[49m\u001b[43m)\u001b[49m \u001b[38;5;28;01mas\u001b[39;00m handles:\n\u001b[0;32m    248\u001b[0m     \u001b[38;5;66;03m# Note: self.encoding is irrelevant here\u001b[39;00m\n\u001b[0;32m    249\u001b[0m     \u001b[38;5;28mself\u001b[39m\u001b[38;5;241m.\u001b[39mwriter \u001b[38;5;241m=\u001b[39m csvlib\u001b[38;5;241m.\u001b[39mwriter(\n\u001b[0;32m    250\u001b[0m         handles\u001b[38;5;241m.\u001b[39mhandle,\n\u001b[0;32m    251\u001b[0m         lineterminator\u001b[38;5;241m=\u001b[39m\u001b[38;5;28mself\u001b[39m\u001b[38;5;241m.\u001b[39mlineterminator,\n\u001b[1;32m   (...)\u001b[0m\n\u001b[0;32m    256\u001b[0m         quotechar\u001b[38;5;241m=\u001b[39m\u001b[38;5;28mself\u001b[39m\u001b[38;5;241m.\u001b[39mquotechar,\n\u001b[0;32m    257\u001b[0m     )\n\u001b[0;32m    259\u001b[0m     \u001b[38;5;28mself\u001b[39m\u001b[38;5;241m.\u001b[39m_save()\n",
      "File \u001b[1;32m~\\AppData\\Local\\Programs\\Python\\Python310\\lib\\site-packages\\pandas\\io\\common.py:859\u001b[0m, in \u001b[0;36mget_handle\u001b[1;34m(path_or_buf, mode, encoding, compression, memory_map, is_text, errors, storage_options)\u001b[0m\n\u001b[0;32m    854\u001b[0m \u001b[38;5;28;01melif\u001b[39;00m \u001b[38;5;28misinstance\u001b[39m(handle, \u001b[38;5;28mstr\u001b[39m):\n\u001b[0;32m    855\u001b[0m     \u001b[38;5;66;03m# Check whether the filename is to be opened in binary mode.\u001b[39;00m\n\u001b[0;32m    856\u001b[0m     \u001b[38;5;66;03m# Binary mode does not support 'encoding' and 'newline'.\u001b[39;00m\n\u001b[0;32m    857\u001b[0m     \u001b[38;5;28;01mif\u001b[39;00m ioargs\u001b[38;5;241m.\u001b[39mencoding \u001b[38;5;129;01mand\u001b[39;00m \u001b[38;5;124m\"\u001b[39m\u001b[38;5;124mb\u001b[39m\u001b[38;5;124m\"\u001b[39m \u001b[38;5;129;01mnot\u001b[39;00m \u001b[38;5;129;01min\u001b[39;00m ioargs\u001b[38;5;241m.\u001b[39mmode:\n\u001b[0;32m    858\u001b[0m         \u001b[38;5;66;03m# Encoding\u001b[39;00m\n\u001b[1;32m--> 859\u001b[0m         handle \u001b[38;5;241m=\u001b[39m \u001b[38;5;28;43mopen\u001b[39;49m\u001b[43m(\u001b[49m\n\u001b[0;32m    860\u001b[0m \u001b[43m            \u001b[49m\u001b[43mhandle\u001b[49m\u001b[43m,\u001b[49m\n\u001b[0;32m    861\u001b[0m \u001b[43m            \u001b[49m\u001b[43mioargs\u001b[49m\u001b[38;5;241;43m.\u001b[39;49m\u001b[43mmode\u001b[49m\u001b[43m,\u001b[49m\n\u001b[0;32m    862\u001b[0m \u001b[43m            \u001b[49m\u001b[43mencoding\u001b[49m\u001b[38;5;241;43m=\u001b[39;49m\u001b[43mioargs\u001b[49m\u001b[38;5;241;43m.\u001b[39;49m\u001b[43mencoding\u001b[49m\u001b[43m,\u001b[49m\n\u001b[0;32m    863\u001b[0m \u001b[43m            \u001b[49m\u001b[43merrors\u001b[49m\u001b[38;5;241;43m=\u001b[39;49m\u001b[43merrors\u001b[49m\u001b[43m,\u001b[49m\n\u001b[0;32m    864\u001b[0m \u001b[43m            \u001b[49m\u001b[43mnewline\u001b[49m\u001b[38;5;241;43m=\u001b[39;49m\u001b[38;5;124;43m\"\u001b[39;49m\u001b[38;5;124;43m\"\u001b[39;49m\u001b[43m,\u001b[49m\n\u001b[0;32m    865\u001b[0m \u001b[43m        \u001b[49m\u001b[43m)\u001b[49m\n\u001b[0;32m    866\u001b[0m     \u001b[38;5;28;01melse\u001b[39;00m:\n\u001b[0;32m    867\u001b[0m         \u001b[38;5;66;03m# Binary mode\u001b[39;00m\n\u001b[0;32m    868\u001b[0m         handle \u001b[38;5;241m=\u001b[39m \u001b[38;5;28mopen\u001b[39m(handle, ioargs\u001b[38;5;241m.\u001b[39mmode)\n",
      "\u001b[1;31mPermissionError\u001b[0m: [Errno 13] Permission denied: 'guardian_headlines.csv'"
     ]
    }
   ],
   "source": [
    "reviews.to_csv('guardian_headlines.csv',index=False)"
   ]
  },
  {
   "cell_type": "code",
   "execution_count": null,
   "id": "e088ed4e",
   "metadata": {},
   "outputs": [],
   "source": []
  }
 ],
 "metadata": {
  "kernelspec": {
   "display_name": "Python 3 (ipykernel)",
   "language": "python",
   "name": "python3"
  },
  "language_info": {
   "codemirror_mode": {
    "name": "ipython",
    "version": 3
   },
   "file_extension": ".py",
   "mimetype": "text/x-python",
   "name": "python",
   "nbconvert_exporter": "python",
   "pygments_lexer": "ipython3",
   "version": "3.10.2"
  }
 },
 "nbformat": 4,
 "nbformat_minor": 5
}
